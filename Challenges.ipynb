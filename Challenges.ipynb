{
  "nbformat": 4,
  "nbformat_minor": 0,
  "metadata": {
    "colab": {
      "provenance": [],
      "authorship_tag": "ABX9TyN1XXbF/q1N6485KCOxhTav",
      "include_colab_link": true
    },
    "kernelspec": {
      "name": "python3",
      "display_name": "Python 3"
    },
    "language_info": {
      "name": "python"
    }
  },
  "cells": [
    {
      "cell_type": "markdown",
      "metadata": {
        "id": "view-in-github",
        "colab_type": "text"
      },
      "source": [
        "<a href=\"https://colab.research.google.com/github/jcsmcmendes/Step_Deep_Learning/blob/main/Challenges.ipynb\" target=\"_parent\"><img src=\"https://colab.research.google.com/assets/colab-badge.svg\" alt=\"Open In Colab\"/></a>"
      ]
    },
    {
      "cell_type": "markdown",
      "source": [
        "# 🧠 Deep Learning Challenges: Classification, Detection & Segmentation\n",
        "\n",
        "Welcome to your final set of challenges!  \n",
        "These tasks are designed to consolidate everything you've learned so far — from using pre-trained models to interpreting predictions and even combining detection with segmentation.\n",
        "\n",
        "You may use any framework we've seen (e.g., TensorFlow, Keras, OpenCV, Ultralytics YOLO), and you're encouraged to be creative.\n",
        "\n",
        "---\n",
        "\n",
        "## 📌 Challenge 1 — Classify an Image (Dog or Cat)\n",
        "\n",
        "Use a **pre-trained classification model** (e.g., VGG16, MobileNet, EfficientNet) to classify a simple image as either a **dog** or a **cat**.\n",
        "\n",
        "### 🔹 Objectives:\n",
        "- Load a pre-trained model\n",
        "- Preprocess the input image correctly\n",
        "- Interpret the predicted class\n",
        "- (Optional) Use segmentation to remove the background before classification\n",
        "\n",
        "📂 *You can use this image:*\n",
        "```python\n",
        "img_url = \"https://dogagingproject.org/_next/image?url=https%3A%2F%2Fcontent.dogagingproject.org%2Fwp-content%2Fuploads%2F2020%2F11%2Fhelena-lopes-S3TPJCOIRoo-unsplash-scaled.jpg&w=1200&q=75\"\n"
      ],
      "metadata": {
        "id": "PPP-eLPeDvT8"
      }
    },
    {
      "cell_type": "markdown",
      "source": [
        "## 📌 Challenge 2 — Detect Multiple Dogs in an Image 🐕\n",
        "\n",
        "In this challenge, you will use a **pre-trained object detection model** to locate and label **all the dogs** present in an image.\n",
        "\n",
        "### 🎯 Objectives:\n",
        "- Load a YOLO model pre-trained on the COCO dataset (e.g., `yolov11n.pt`)\n",
        "- Run the model on an image with multiple dogs\n",
        "- Detect and draw bounding boxes around each dog\n",
        "- Display or save the result with labels and confidence scores\n",
        "\n",
        "### 🖼️ Suggested Image:\n",
        "You can use this example image (or choose your own):\n",
        "\n",
        "```python\n",
        "img_url = \"https://kajabi-storefronts-production.kajabi-cdn.com/kajabi-storefronts-production/blogs/7042/images/tbI7LbTQhyvcNbUOKwfg_file.jpg\"\n"
      ],
      "metadata": {
        "id": "Y5ryQaq3D9Fg"
      }
    },
    {
      "cell_type": "markdown",
      "source": [
        "## 📌 Challenge 3 — Isolate and Identify Dog Breeds 🐶🔍\n",
        "\n",
        "In this challenge, you're going to build a small object recognition pipeline by combining detection, optional segmentation, and classification.\n",
        "\n",
        "You will reuse the output from **Challenge 2**, where you detected multiple dogs in an image.\n",
        "\n",
        "### 🎯 Objectives:\n",
        "\n",
        "1. **Crop** each detected dog from the image using the bounding boxes obtained in Challenge 2.\n",
        "2. (Optional) **Segment** each cropped image to remove the background, leaving only the dog visible.\n",
        "3. Use a **dog breed classification model** to predict the breed of each dog.\n",
        "\n",
        "### 🧠 Workflow Example:\n",
        "- Step 1: Object Detection (from Challenge 2)\n",
        "- Step 2: Crop each detection → save or visualize\n",
        "- Step 3: (Optional) Apply a segmentation model to isolate the object from the background\n",
        "- Step 4: Use a classifier to predict the breed of each cropped dog"
      ],
      "metadata": {
        "id": "D2EOPHynH6PY"
      }
    }
  ]
}